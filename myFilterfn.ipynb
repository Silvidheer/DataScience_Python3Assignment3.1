{
 "cells": [
  {
   "cell_type": "code",
   "execution_count": 2,
   "metadata": {},
   "outputs": [
    {
     "name": "stdout",
     "output_type": "stream",
     "text": [
      "The filtered vowels are:\n",
      "['a', 'e', 'i', 'o']\n"
     ]
    }
   ],
   "source": [
    "#--------------Fil\n",
    "alphabets = ['a', 'b', 'd', 'e', 'i', 'j', 'o']\n",
    "filteredVowels = []\n",
    "\n",
    "# function that filters vowels\n",
    "def filterVowels(alphabet):\n",
    "    vowels = ['a', 'e', 'i', 'o', 'u']\n",
    "\n",
    "    if(alphabet in vowels):\n",
    "        return True\n",
    "    else:\n",
    "        return False\n",
    "\n",
    "def myFilter(alphabets):\n",
    "    \n",
    "    for alphabet in alphabets:\n",
    "        if(filterVowels(alphabet)):\n",
    "            filteredVowels.append(alphabet)\n",
    "    print(filteredVowels)\n",
    "\n",
    "print('The filtered vowels are:')\n",
    "#for vowel in filteredVowels:\n",
    "myFilter(alphabets)"
   ]
  },
  {
   "cell_type": "code",
   "execution_count": 12,
   "metadata": {},
   "outputs": [
    {
     "name": "stdout",
     "output_type": "stream",
     "text": [
      "Find the even numbers:\n",
      "[0, 2, 4, 6, 8, 10, 12, 14, 16, 18]\n"
     ]
    }
   ],
   "source": [
    "#---------------Filter out even numbers---------------\n",
    "def even_check(num):\n",
    "    if (num%2 == 0):\n",
    "        return True\n",
    "list = range(20)\n",
    "evenList = []\n",
    "def myFilter(list):\n",
    "    for i in list:\n",
    "        if (even_check(i)):\n",
    "            evenList.append(i)\n",
    "    print(evenList)\n",
    "print(\"Find the even numbers:\")\n",
    "myFilter(list)"
   ]
  },
  {
   "cell_type": "code",
   "execution_count": null,
   "metadata": {
    "collapsed": true
   },
   "outputs": [],
   "source": []
  }
 ],
 "metadata": {
  "kernelspec": {
   "display_name": "Python 3",
   "language": "python",
   "name": "python3"
  },
  "language_info": {
   "codemirror_mode": {
    "name": "ipython",
    "version": 3
   },
   "file_extension": ".py",
   "mimetype": "text/x-python",
   "name": "python",
   "nbconvert_exporter": "python",
   "pygments_lexer": "ipython3",
   "version": "3.6.3"
  }
 },
 "nbformat": 4,
 "nbformat_minor": 2
}
