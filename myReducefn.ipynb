{
 "cells": [
  {
   "cell_type": "code",
   "execution_count": 8,
   "metadata": {
    "scrolled": true
   },
   "outputs": [
    {
     "name": "stdout",
     "output_type": "stream",
     "text": [
      "210\n"
     ]
    }
   ],
   "source": [
    "#-------------- Example: Reduce(x + y) --------------'\n",
    "\n",
    "def add(x,y): return x+y\n",
    "list = [10,20,30,40,50,60]\n",
    "import functools\n",
    "\n",
    "def myreduce(list):\n",
    "    tot = 0\n",
    "    for i in list:\n",
    "        tot = add(tot,i)\n",
    "    print (tot)\n",
    " \n",
    "myreduce(list)\n"
   ]
  },
  {
   "cell_type": "code",
   "execution_count": 15,
   "metadata": {},
   "outputs": [
    {
     "name": "stdout",
     "output_type": "stream",
     "text": [
      "10\n",
      "200\n",
      "6000\n",
      "240000\n",
      "12000000\n",
      "720000000\n"
     ]
    }
   ],
   "source": [
    "#-------------- Example: Reduce(x * y) --------------'\n",
    "def mul(x,y): return x*y\n",
    "import functools\n",
    "\n",
    "def myreduce(list):\n",
    "    tot = 1\n",
    "    for i in list:\n",
    "        tot = mul(tot,i)\n",
    "        print (tot)\n",
    "    \n",
    "myreduce(list)\n"
   ]
  },
  {
   "cell_type": "code",
   "execution_count": 37,
   "metadata": {},
   "outputs": [
    {
     "name": "stdout",
     "output_type": "stream",
     "text": [
      "76\n"
     ]
    }
   ],
   "source": [
    "#-------------- Example: Reduce largest no. in the list --------------'\n",
    "b_list = [44,76,22,43,12,9]\n",
    "import functools\n",
    "\n",
    "def myreduce(b_list):\n",
    "    largest = 0\n",
    "    for i in b_list:\n",
    "        if(i > largest):\n",
    "              largest = i\n",
    "        else:\n",
    "            largest = largest\n",
    "    print(largest)\n",
    "    \n",
    "myreduce(b_list)\n",
    "\n"
   ]
  },
  {
   "cell_type": "code",
   "execution_count": null,
   "metadata": {
    "collapsed": true
   },
   "outputs": [],
   "source": []
  }
 ],
 "metadata": {
  "kernelspec": {
   "display_name": "Python 3",
   "language": "python",
   "name": "python3"
  },
  "language_info": {
   "codemirror_mode": {
    "name": "ipython",
    "version": 3
   },
   "file_extension": ".py",
   "mimetype": "text/x-python",
   "name": "python",
   "nbconvert_exporter": "python",
   "pygments_lexer": "ipython3",
   "version": "3.6.3"
  }
 },
 "nbformat": 4,
 "nbformat_minor": 2
}
